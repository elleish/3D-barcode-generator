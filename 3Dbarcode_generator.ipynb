{
  "nbformat": 4,
  "nbformat_minor": 0,
  "metadata": {
    "colab": {
      "provenance": [],
      "include_colab_link": true
    },
    "kernelspec": {
      "name": "python3",
      "display_name": "Python 3"
    }
  },
  "cells": [
    {
      "cell_type": "markdown",
      "metadata": {
        "id": "view-in-github",
        "colab_type": "text"
      },
      "source": [
        "<a href=\"https://colab.research.google.com/github/elleish/3D-barcode-generator/blob/main/3Dbarcode_generator.ipynb\" target=\"_parent\"><img src=\"https://colab.research.google.com/assets/colab-badge.svg\" alt=\"Open In Colab\"/></a>"
      ]
    },
    {
      "cell_type": "code",
      "metadata": {
        "id": "xoGJYYvUZliK"
      },
      "source": [
        "!pip install ghostscript\n",
        "!pip install treepoem\n",
        "!pip install elasticdeform"
      ],
      "execution_count": null,
      "outputs": []
    },
    {
      "cell_type": "code",
      "metadata": {
        "id": "wK-h07Mmk9cL"
      },
      "source": [
        "import os\n",
        "import numpy as np\n",
        "import treepoem, imageio, elasticdeform\n",
        "from PIL import Image, ImageDraw, ImageFont\n",
        "from shutil import make_archive\n",
        "import matplotlib.pyplot as plt\n",
        "%matplotlib inline\n",
        "os.mkdir('barcodes')"
      ],
      "execution_count": null,
      "outputs": []
    },
    {
      "cell_type": "code",
      "metadata": {
        "id": "SsPhpjDys0KU"
      },
      "source": [
        "\n",
        "X = numpy.zeros((400, 500), dtype=np.uint8)\n",
        "X[::20, :] = 255.0\n",
        "X[:, ::20] = 255.0\n",
        "\n",
        "# apply deformation with a random 3 x 3 grid\n",
        "X_deformed = elasticdeform.deform_random_grid(X, sigma=5, points=2)\n",
        "\n",
        "X = Image.fromarray(X).convert('RGB')\n",
        "X.save('barcodes/test_X.png')\n",
        "X_deformed = Image.fromarray(X_deformed).convert('RGB')\n",
        "X_deformed.save('barcodes/test_X_deformed.png')\n"
      ],
      "execution_count": 33,
      "outputs": []
    },
    {
      "cell_type": "code",
      "metadata": {
        "id": "LVAO4PwypS6P",
        "outputId": "f7ea7d46-ca90-477a-b052-e1924432611b",
        "colab": {
          "base_uri": "https://localhost:8080/",
          "height": 1000
        }
      },
      "source": [
        "for imgno in range(4):\n",
        "    st = ''.join([str(digit) for digit in list(np.random.random_integers(10,size=12)-[1,1,1,1,1,1,1,1,1,1,1,1])])\n",
        "    barcode = treepoem.generate_barcode(\n",
        "     barcode_type='ean13',  # One of the BWIPP supported codes.\n",
        "     data=st)\n",
        "    barcode_img = barcode.crop((0, 0, 190, 140)).resize((380, 280))\n",
        "    barcode = np.array(barcode_img)\n",
        "    barcode2 = barcode / 256.0\n",
        "    barcode_distorted = elasticdeform.deform_random_grid(barcode2, sigma=2, points=3)\n",
        "    barcode_distorted *= 225\n",
        "    barcode_distorted2 = barcode_distorted.astype(np.uint8)\n",
        "\n",
        "\n",
        "\n",
        "    barcode_distorted2 = Image.fromarray(barcode_distorted2).convert('RGB')\n",
        "    barcode_distorted2.save('barcodes/'+st+'.png')\n",
        "    display(barcode_distorted)\n",
        "    display(barcode_img.convert('RGB'))\n",
        "\n",
        ""
      ],
      "execution_count": 57,
      "outputs": [
        {
          "output_type": "stream",
          "name": "stderr",
          "text": [
            "<ipython-input-57-2491da628682>:2: DeprecationWarning: This function is deprecated. Please call randint(1, 10 + 1) instead\n",
            "  st = ''.join([str(digit) for digit in list(np.random.random_integers(10,size=12)-[1,1,1,1,1,1,1,1,1,1,1,1])])\n"
          ]
        },
        {
          "output_type": "display_data",
          "data": {
            "text/plain": [
              "array([[[ 0.        ,  0.        ,  0.        ],\n",
              "        [ 0.        ,  0.        ,  0.        ],\n",
              "        [ 0.05669788,  0.        ,  0.        ],\n",
              "        ...,\n",
              "        [ 0.        ,  0.        ,  0.        ],\n",
              "        [ 0.        ,  0.        ,  0.        ],\n",
              "        [ 0.        ,  0.        ,  0.        ]],\n",
              "\n",
              "       [[ 0.        ,  0.        ,  0.        ],\n",
              "        [ 0.        ,  0.        ,  0.        ],\n",
              "        [ 0.05682591,  0.        ,  0.        ],\n",
              "        ...,\n",
              "        [ 0.        ,  0.        ,  0.        ],\n",
              "        [ 0.        ,  0.        ,  0.        ],\n",
              "        [ 0.        ,  0.        ,  0.        ]],\n",
              "\n",
              "       [[ 0.        ,  0.        ,  0.        ],\n",
              "        [ 0.        ,  0.        ,  0.        ],\n",
              "        [ 0.0572091 ,  0.        ,  0.        ],\n",
              "        ...,\n",
              "        [-1.31848337,  0.        ,  0.        ],\n",
              "        [ 0.30226794,  0.        ,  0.        ],\n",
              "        [ 0.        ,  0.        ,  0.        ]],\n",
              "\n",
              "       ...,\n",
              "\n",
              "       [[ 0.        ,  0.        ,  0.        ],\n",
              "        [ 0.        ,  0.        ,  0.        ],\n",
              "        [ 0.        ,  0.        ,  0.        ],\n",
              "        ...,\n",
              "        [ 0.        ,  0.        ,  0.        ],\n",
              "        [ 0.        ,  0.        ,  0.        ],\n",
              "        [ 0.        ,  0.        ,  0.        ]],\n",
              "\n",
              "       [[ 0.        ,  0.        ,  0.        ],\n",
              "        [ 0.        ,  0.        ,  0.        ],\n",
              "        [ 0.        ,  0.        ,  0.        ],\n",
              "        ...,\n",
              "        [ 0.        ,  0.        ,  0.        ],\n",
              "        [ 0.        ,  0.        ,  0.        ],\n",
              "        [ 0.        ,  0.        ,  0.        ]],\n",
              "\n",
              "       [[ 0.        ,  0.        ,  0.        ],\n",
              "        [ 0.        ,  0.        ,  0.        ],\n",
              "        [ 0.        ,  0.        ,  0.        ],\n",
              "        ...,\n",
              "        [ 0.        ,  0.        ,  0.        ],\n",
              "        [ 0.        ,  0.        ,  0.        ],\n",
              "        [ 0.        ,  0.        ,  0.        ]]])"
            ]
          },
          "metadata": {}
        },
        {
          "output_type": "display_data",
          "data": {
            "text/plain": [
              "<PIL.Image.Image image mode=RGB size=380x280>"
            ],
            "image/png": "[encoded data removed]"
          },
          "metadata": {}
        },
        {
          "output_type": "stream",
          "name": "stderr",
          "text": [
            "<ipython-input-57-2491da628682>:2: DeprecationWarning: This function is deprecated. Please call randint(1, 10 + 1) instead\n",
            "  st = ''.join([str(digit) for digit in list(np.random.random_integers(10,size=12)-[1,1,1,1,1,1,1,1,1,1,1,1])])\n"
          ]
        },
        {
          "output_type": "display_data",
          "data": {
            "text/plain": [
              "array([[[  0.        ,   0.        ,   0.        ],\n",
              "        [  0.        ,   0.        ,   0.        ],\n",
              "        [  0.        ,   0.        ,   0.        ],\n",
              "        ...,\n",
              "        [  0.        ,   0.        ,  -0.57419206],\n",
              "        [  0.        ,   0.        ,   0.14140419],\n",
              "        [  0.        ,   0.        ,   0.        ]],\n",
              "\n",
              "       [[  0.        ,   0.        ,   0.        ],\n",
              "        [  0.        ,   0.        ,   0.        ],\n",
              "        [  0.        ,   0.        ,   0.        ],\n",
              "        ...,\n",
              "        [  0.        ,   0.        ,  -0.57402763],\n",
              "        [  0.        ,   0.        ,   0.14136493],\n",
              "        [  0.        ,   0.        ,   0.        ]],\n",
              "\n",
              "       [[  0.        ,   0.        ,   0.        ],\n",
              "        [  0.        ,   0.        ,   0.        ],\n",
              "        [  0.        ,   0.        ,   0.        ],\n",
              "        ...,\n",
              "        [  0.        ,   0.        ,  -0.5735389 ],\n",
              "        [  0.        ,   0.        ,   0.14124824],\n",
              "        [  0.        ,   0.        ,   0.        ]],\n",
              "\n",
              "       ...,\n",
              "\n",
              "       [[  0.        ,   0.        ,   0.        ],\n",
              "        [  0.        ,   0.19429541,   0.        ],\n",
              "        [  0.24062062,  -0.79910025,   0.        ],\n",
              "        ...,\n",
              "        [124.128758  ,   0.        ,   0.        ],\n",
              "        [ 14.36956153,   0.        ,   0.        ],\n",
              "        [ -1.40722065,   0.        ,   0.        ]],\n",
              "\n",
              "       [[  0.        ,   0.        ,   0.        ],\n",
              "        [  0.        ,   0.        ,   0.        ],\n",
              "        [  0.        ,   0.        ,   0.        ],\n",
              "        ...,\n",
              "        [124.22326802,   0.        ,   0.        ],\n",
              "        [ 14.40115431,   0.        ,   0.        ],\n",
              "        [ -1.40759258,   0.        ,   0.        ]],\n",
              "\n",
              "       [[  0.        ,   0.        ,   0.        ],\n",
              "        [  0.        ,   0.        ,   0.        ],\n",
              "        [  0.        ,   0.        ,   0.        ],\n",
              "        ...,\n",
              "        [124.25497014,   0.        ,   0.        ],\n",
              "        [ 14.41176282,   0.        ,   0.        ],\n",
              "        [ -1.40771605,   0.        ,   0.        ]]])"
            ]
          },
          "metadata": {}
        },
        {
          "output_type": "display_data",
          "data": {
            "text/plain": [
              "<PIL.Image.Image image mode=RGB size=380x280>"
            ],
            "image/png": "[encoded data removed]"
          },
          "metadata": {}
        },
        {
          "output_type": "stream",
          "name": "stderr",
          "text": [
            "<ipython-input-57-2491da628682>:2: DeprecationWarning: This function is deprecated. Please call randint(1, 10 + 1) instead\n",
            "  st = ''.join([str(digit) for digit in list(np.random.random_integers(10,size=12)-[1,1,1,1,1,1,1,1,1,1,1,1])])\n"
          ]
        },
        {
          "output_type": "display_data",
          "data": {
            "text/plain": [
              "array([[[ 0.        ,  0.        ,  0.        ],\n",
              "        [ 0.        ,  0.        ,  0.        ],\n",
              "        [ 0.        ,  0.        ,  0.        ],\n",
              "        ...,\n",
              "        [ 0.        ,  0.        ,  0.        ],\n",
              "        [ 0.        ,  0.        ,  0.        ],\n",
              "        [ 0.        ,  0.        ,  0.        ]],\n",
              "\n",
              "       [[ 0.        ,  0.        , -0.15506897],\n",
              "        [ 0.        ,  0.        ,  0.62518483],\n",
              "        [ 0.        ,  0.        , 53.0079638 ],\n",
              "        ...,\n",
              "        [54.50313933,  0.        ,  0.        ],\n",
              "        [ 0.77912627,  0.        ,  0.        ],\n",
              "        [-0.19305847,  0.        ,  0.        ]],\n",
              "\n",
              "       [[ 0.        ,  0.        , -0.15202339],\n",
              "        [ 0.        ,  0.        ,  0.61260325],\n",
              "        [ 0.        ,  0.        , 52.87121151],\n",
              "        ...,\n",
              "        [54.60225885,  0.        ,  0.        ],\n",
              "        [ 0.78859517,  0.        ,  0.        ],\n",
              "        [-0.19530341,  0.        ,  0.        ]],\n",
              "\n",
              "       ...,\n",
              "\n",
              "       [[ 0.        ,  0.        ,  0.        ],\n",
              "        [ 0.        ,  0.        ,  0.        ],\n",
              "        [ 0.        ,  0.        ,  0.        ],\n",
              "        ...,\n",
              "        [ 0.        ,  0.        ,  0.        ],\n",
              "        [ 0.        ,  0.        ,  0.        ],\n",
              "        [ 0.        ,  0.        ,  0.        ]],\n",
              "\n",
              "       [[ 0.        ,  0.        ,  0.        ],\n",
              "        [ 0.        ,  0.        ,  0.        ],\n",
              "        [ 0.        ,  0.        ,  0.        ],\n",
              "        ...,\n",
              "        [ 0.        ,  0.        ,  0.        ],\n",
              "        [ 0.        ,  0.        ,  0.        ],\n",
              "        [ 0.        ,  0.        ,  0.        ]],\n",
              "\n",
              "       [[ 0.        ,  0.        ,  0.        ],\n",
              "        [ 0.        ,  0.        ,  0.        ],\n",
              "        [ 0.        ,  0.        ,  0.        ],\n",
              "        ...,\n",
              "        [ 0.        ,  0.        ,  0.        ],\n",
              "        [ 0.        ,  0.        ,  0.        ],\n",
              "        [ 0.        ,  0.        ,  0.        ]]])"
            ]
          },
          "metadata": {}
        },
        {
          "output_type": "display_data",
          "data": {
            "text/plain": [
              "<PIL.Image.Image image mode=RGB size=380x280>"
            ],
            "image/png": "[encoded data removed]"
          },
          "metadata": {}
        },
        {
          "output_type": "stream",
          "name": "stderr",
          "text": [
            "<ipython-input-57-2491da628682>:2: DeprecationWarning: This function is deprecated. Please call randint(1, 10 + 1) instead\n",
            "  st = ''.join([str(digit) for digit in list(np.random.random_integers(10,size=12)-[1,1,1,1,1,1,1,1,1,1,1,1])])\n"
          ]
        },
        {
          "output_type": "display_data",
          "data": {
            "text/plain": [
              "array([[[ 0.00000000e+00,  0.00000000e+00,  1.26573252e+01],\n",
              "        [ 0.00000000e+00,  0.00000000e+00,  1.18911448e+02],\n",
              "        [ 0.00000000e+00,  0.00000000e+00,  2.14772477e+02],\n",
              "        ...,\n",
              "        [ 0.00000000e+00, -9.93910194e-01,  0.00000000e+00],\n",
              "        [ 0.00000000e+00,  1.70335883e-01,  0.00000000e+00],\n",
              "        [ 0.00000000e+00,  0.00000000e+00,  0.00000000e+00]],\n",
              "\n",
              "       [[ 0.00000000e+00,  0.00000000e+00,  1.26518313e+01],\n",
              "        [ 0.00000000e+00,  0.00000000e+00,  1.18893469e+02],\n",
              "        [ 0.00000000e+00,  0.00000000e+00,  2.14768112e+02],\n",
              "        ...,\n",
              "        [ 0.00000000e+00, -9.92909777e-01,  0.00000000e+00],\n",
              "        [ 0.00000000e+00,  1.70077926e-01,  0.00000000e+00],\n",
              "        [ 0.00000000e+00,  0.00000000e+00,  0.00000000e+00]],\n",
              "\n",
              "       [[ 0.00000000e+00,  0.00000000e+00,  1.26353791e+01],\n",
              "        [ 0.00000000e+00,  2.96871832e-01,  1.18839593e+02],\n",
              "        [ 0.00000000e+00, -1.28840905e+00,  2.14755028e+02],\n",
              "        ...,\n",
              "        [ 0.00000000e+00, -9.89925873e-01,  0.00000000e+00],\n",
              "        [ 0.00000000e+00,  1.69309362e-01,  0.00000000e+00],\n",
              "        [ 0.00000000e+00,  0.00000000e+00,  0.00000000e+00]],\n",
              "\n",
              "       ...,\n",
              "\n",
              "       [[ 0.00000000e+00,  0.00000000e+00,  0.00000000e+00],\n",
              "        [ 0.00000000e+00,  0.00000000e+00,  0.00000000e+00],\n",
              "        [ 0.00000000e+00,  0.00000000e+00,  0.00000000e+00],\n",
              "        ...,\n",
              "        [ 0.00000000e+00,  1.11301729e+02,  0.00000000e+00],\n",
              "        [ 0.00000000e+00,  1.04892490e+01,  0.00000000e+00],\n",
              "        [ 0.00000000e+00, -1.30710968e+00,  0.00000000e+00]],\n",
              "\n",
              "       [[ 0.00000000e+00,  0.00000000e+00,  0.00000000e+00],\n",
              "        [ 0.00000000e+00,  0.00000000e+00,  0.00000000e+00],\n",
              "        [ 0.00000000e+00,  0.00000000e+00,  0.00000000e+00],\n",
              "        ...,\n",
              "        [ 0.00000000e+00,  1.11534887e+02,  0.00000000e+00],\n",
              "        [ 0.00000000e+00,  1.05522681e+01,  0.00000000e+00],\n",
              "        [ 0.00000000e+00, -1.30970254e+00,  0.00000000e+00]],\n",
              "\n",
              "       [[ 0.00000000e+00,  0.00000000e+00,  0.00000000e+00],\n",
              "        [ 0.00000000e+00,  0.00000000e+00,  0.00000000e+00],\n",
              "        [ 0.00000000e+00,  0.00000000e+00,  0.00000000e+00],\n",
              "        ...,\n",
              "        [ 0.00000000e+00,  0.00000000e+00,  0.00000000e+00],\n",
              "        [ 0.00000000e+00,  0.00000000e+00,  0.00000000e+00],\n",
              "        [ 0.00000000e+00,  0.00000000e+00,  0.00000000e+00]]])"
            ]
          },
          "metadata": {}
        },
        {
          "output_type": "display_data",
          "data": {
            "text/plain": [
              "<PIL.Image.Image image mode=RGB size=380x280>"
            ],
            "image/png": "[encoded data removed]"
          },
          "metadata": {}
        }
      ]
    },
    {
      "cell_type": "code",
      "metadata": {
        "id": "FBJW_rkKp_tT"
      },
      "source": [
        "# проверка качества генерации (сверка с 1 и 1.41428)\n",
        "# for j in range(shape[1]-1):\n",
        "#     for i in range(shape[0]-1):\n",
        "#         if np.abs(l2(i,j,i,j+1)-1.0)>0.01:\n",
        "#            print(i,j,l2(i,j,i,j+1))\n",
        "\n",
        "#         if np.abs(l2(i,j,i+1,j)-1.0)>0.01:\n",
        "#            print(i,j,l2(i,j,i+1,j))\n",
        "\n",
        "#         if np.abs(l2(i,j,i+1,j+1)/1.4142-1.0)>0.01:\n",
        "#            print(i,j,l2(i,j,i+1,j+1)/1.4142)\n",
        ""
      ],
      "execution_count": null,
      "outputs": []
    },
    {
      "cell_type": "code",
      "metadata": {
        "id": "zby78hgg_FH2"
      },
      "source": [
        "!zip barcodes ean13/*.png"
      ],
      "execution_count": null,
      "outputs": []
    },
    {
      "cell_type": "code",
      "metadata": {
        "id": "Vz0Wq3IL_OWH"
      },
      "source": [],
      "execution_count": null,
      "outputs": []
    }
  ]
}